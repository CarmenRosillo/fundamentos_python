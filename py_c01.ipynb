{
 "cells": [
  {
   "cell_type": "markdown",
   "metadata": {},
   "source": [
    "Fundamentos de Python"
   ]
  },
  {
   "cell_type": "code",
   "execution_count": 3,
   "metadata": {},
   "outputs": [
    {
     "name": "stdout",
     "output_type": "stream",
     "text": [
      "hello world\n"
     ]
    }
   ],
   "source": [
    "print (\"hello world\") "
   ]
  },
  {
   "cell_type": "markdown",
   "metadata": {},
   "source": [
    "#variables y comentarios\n"
   ]
  },
  {
   "cell_type": "code",
   "execution_count": 4,
   "metadata": {},
   "outputs": [],
   "source": [
    "# variables\n",
    "name = \"josue\"\n",
    "first_name = \"josue\"\n",
    "#anomalias\n",
    "# escribir con mayusculas, separar con otro simbolo que no sea piso, \n",
    "\n",
    "#revisar el pep 8: guia de estilo de python"
   ]
  },
  {
   "cell_type": "code",
   "execution_count": 5,
   "metadata": {},
   "outputs": [
    {
     "name": "stdout",
     "output_type": "stream",
     "text": [
      "<class 'float'>\n",
      "<class 'int'>\n",
      "<class 'int'>\n",
      "<class 'float'>\n",
      "el tipo de dato de altura es <class 'float'>\n"
     ]
    }
   ],
   "source": [
    "#python funciona como calculadora\n",
    "#int: entero\n",
    "#float: decimales\n",
    "#str: cadena de caracteres\n",
    "\n",
    "edad = 12\n",
    "peso = 21\n",
    "altura = 1.78\n",
    "type( edad )\n",
    "type( peso )\n",
    "type( altura )\n",
    "\n",
    "print ( type( altura ) ) \n",
    "\n",
    "print (type( edad ) )\n",
    "print (type( peso ) )\n",
    "print (type( altura ) )\n",
    "\n",
    "print( \"el tipo de dato de altura es\", type( altura ) )\n",
    "\n"
   ]
  },
  {
   "cell_type": "code",
   "execution_count": 6,
   "metadata": {},
   "outputs": [
    {
     "data": {
      "text/plain": [
       "float"
      ]
     },
     "execution_count": 6,
     "metadata": {},
     "output_type": "execute_result"
    }
   ],
   "source": [
    "\n",
    "edad= float(edad)\n",
    "type(edad)\n",
    "\n",
    "\n"
   ]
  },
  {
   "cell_type": "markdown",
   "metadata": {},
   "source": [
    "Ciclos Finitos"
   ]
  },
  {
   "cell_type": "code",
   "execution_count": null,
   "metadata": {},
   "outputs": [],
   "source": [
    "\n"
   ]
  }
 ],
 "metadata": {
  "kernelspec": {
   "display_name": "Python 3",
   "language": "python",
   "name": "python3"
  },
  "language_info": {
   "codemirror_mode": {
    "name": "ipython",
    "version": 3
   },
   "file_extension": ".py",
   "mimetype": "text/x-python",
   "name": "python",
   "nbconvert_exporter": "python",
   "pygments_lexer": "ipython3",
   "version": "3.12.3"
  }
 },
 "nbformat": 4,
 "nbformat_minor": 2
}
