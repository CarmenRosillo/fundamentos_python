{
 "cells": [
  {
   "cell_type": "code",
   "execution_count": 4,
   "metadata": {},
   "outputs": [
    {
     "name": "stdout",
     "output_type": "stream",
     "text": [
      "The length in inches is 650257737922.0472\n"
     ]
    }
   ],
   "source": [
    "length = eval ( input ( \"Enter a length in cms\"))\n",
    "inch = length / 2.54\n",
    "if length < 0:\n",
    "    print ( \"Invalid length\")\n",
    "else:\n",
    "    print ( f\"The length in inches is {inch}\")  \n",
    "    "
   ]
  },
  {
   "cell_type": "code",
   "execution_count": 9,
   "metadata": {},
   "outputs": [
    {
     "name": "stdout",
     "output_type": "stream",
     "text": [
      "Invalid temperature unit.\n"
     ]
    }
   ],
   "source": [
    "temp = eval (input ( \"Enter a temperature value:\"))\n",
    "convert = input ( \"Enter the temperature unit (C for Celsius, F for Fahrenheit):\")\n",
    "if convert == \"C\":\n",
    "    fahrenheit = (temp * 9/5) + 32\n",
    "    print (f\"{temp}°C is equal to {fahrenheit}°F\")\n",
    "    if fahrenheit >= 104:\n",
    "        print (\"It's hot!\") \n",
    "if convert == \"F\":\n",
    "    celsius = (temp - 32) * 5/9\n",
    "    print (f\"{temp}°F is equal to {celsius}°C\")\n",
    "    if celsius >= 40:\n",
    "        print (\"It's hot!\")\n",
    "\n",
    "if convert != \"C\" and convert != \"F\":\n",
    "    print (\"Invalid temperature unit.\")\n",
    "        "
   ]
  },
  {
   "cell_type": "code",
   "execution_count": 12,
   "metadata": {},
   "outputs": [
    {
     "name": "stdout",
     "output_type": "stream",
     "text": [
      "The Temperature is below freezing point\n"
     ]
    }
   ],
   "source": [
    "temp = eval (input ( \"Enter current temperature in Celsius:\"))\n",
    "if temp < -273.15:\n",
    "    print (\"The Temperture is invalid because it is bellow absolute zero\")\n",
    "if temp == -273.15:\n",
    "    print (\"The Temperature is absolute zero\")  \n",
    "if temp > -273.15 and temp < 0:\n",
    "    print (\"The Temperature is below freezing point\")\n",
    "if temp == 0:\n",
    "    print (\"The Temperature is at the freezing point\")  \n",
    "if temp > 0 and temp < 100:\n",
    "    print (\"The Temperature is in the normal range\")    \n",
    "if temp == 100:\n",
    "    print (\"The Temperature is at the boiling point\")\n",
    "if temp > 100:\n",
    "    print (\"The Temperature is above the boiling point\")    \n"
   ]
  },
  {
   "cell_type": "code",
   "execution_count": 15,
   "metadata": {},
   "outputs": [
    {
     "name": "stdout",
     "output_type": "stream",
     "text": [
      " The student is a senior \n"
     ]
    }
   ],
   "source": [
    "credit = eval (input (\" How many credits the student has taken \"))\n",
    "if credit <= 23:\n",
    "    print (\" The student is a freshman \")\n",
    "if 24 <= credit <= 53:\n",
    "    print (\" The student is a sophomore \")\n",
    "if 54 <= credit <= 83:\n",
    "    print (\" The student is a junior \") \n",
    "if credit >= 84:\n",
    "    print (\" The student is a senior \")\n",
    "\n"
   ]
  },
  {
   "cell_type": "code",
   "execution_count": 21,
   "metadata": {},
   "outputs": [
    {
     "name": "stdout",
     "output_type": "stream",
     "text": [
      "Too low!\n",
      "The random number is 90\n",
      "The guess number is 10\n",
      "Try again!\n"
     ]
    }
   ],
   "source": [
    "from random import randint\n",
    "num= randint(1,100)\n",
    "guess= eval (input(\"Enter your guess: \"))\n",
    "if guess == num:\n",
    "    print(\"You got it!\")\n",
    "    print(f\"The random number is {num}\")    \n",
    "    print(f\"The guess number is {guess}\")   \n",
    "    print(\"Congratulations!\")   \n",
    "if guess > num:\n",
    "    print(\"Too high!\")\n",
    "    print(f\"The random number is {num}\")\n",
    "    print(f\"The guess number is {guess}\")\n",
    "    print(\"Try again!\")\n",
    "if guess < num:\n",
    "    print(\"Too low!\")\n",
    "    print(f\"The random number is {num}\")\n",
    "    print(f\"The guess number is {guess}\")\n",
    "    print(\"Try again!\")"
   ]
  },
  {
   "cell_type": "code",
   "execution_count": 28,
   "metadata": {},
   "outputs": [
    {
     "name": "stdout",
     "output_type": "stream",
     "text": [
      "Quantity is:  99\n",
      "Cost per item is:  10\n",
      "Total cost is:  990\n"
     ]
    }
   ],
   "source": [
    "quantity= int (input( \"How many items are you buying: \"))\n",
    "cost1 = 12; cost2 = 10; cost3 = 7   \n",
    "total = 0   \n",
    "if quantity < 10:\n",
    "    total = quantity * cost1\n",
    "    print (\"Quantity is: \", quantity)\n",
    "    print(\"Cost per item is: \", cost1)\n",
    "    print(\"Total cost is: \", total)\n",
    "if quantity >= 10 and quantity <= 99:\n",
    "    total = quantity * cost2\n",
    "    print (\"Quantity is: \", quantity)\n",
    "    print(\"Cost per item is: \", cost2)\n",
    "    print(\"Total cost is: \", total)\n",
    "if quantity >= 100:\n",
    "    total = quantity * cost3\n",
    "    print (\"Quantity is: \", quantity)\n",
    "    print(\"Cost per item is: \", cost3)\n",
    "    print(\"Total cost is: \", total) \n",
    "\n"
   ]
  },
  {
   "cell_type": "code",
   "execution_count": 32,
   "metadata": {},
   "outputs": [
    {
     "name": "stdout",
     "output_type": "stream",
     "text": [
      "Quantity is:  5\n",
      "Cost per item is:  12\n",
      "Total cost is:  60\n"
     ]
    }
   ],
   "source": [
    "quantity= int (input( \"How many items are you buying: \"))\n",
    "cost1 = 12; cost2 = 10; cost3 = 7   \n",
    "total = 0   \n",
    "if quantity < 10:\n",
    "    total = quantity * cost1\n",
    "    print (\"Quantity is: \", quantity)\n",
    "    print(\"Cost per item is: \", cost1)\n",
    "    print(\"Total cost is: \", total)\n",
    "elif quantity <=99:\n",
    "    total = quantity * cost2\n",
    "    print (\"Quantity is: \", quantity)\n",
    "    print(\"Cost per item is: \", cost2)\n",
    "    print(\"Total cost is: \", total)\n",
    "if quantity >= 100:\n",
    "    total = quantity * cost3\n",
    "    print (\"Quantity is: \", quantity)\n",
    "    print(\"Cost per item is: \", cost3)\n",
    "    print(\"Total cost is: \", total) "
   ]
  }
 ],
 "metadata": {
  "kernelspec": {
   "display_name": "Python 3",
   "language": "python",
   "name": "python3"
  },
  "language_info": {
   "codemirror_mode": {
    "name": "ipython",
    "version": 3
   },
   "file_extension": ".py",
   "mimetype": "text/x-python",
   "name": "python",
   "nbconvert_exporter": "python",
   "pygments_lexer": "ipython3",
   "version": "3.12.3"
  }
 },
 "nbformat": 4,
 "nbformat_minor": 2
}
