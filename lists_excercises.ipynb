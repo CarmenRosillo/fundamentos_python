{
 "cells": [
  {
   "cell_type": "code",
   "execution_count": 6,
   "metadata": {},
   "outputs": [
    {
     "name": "stdout",
     "output_type": "stream",
     "text": [
      "(4, 5, 6)\n",
      "The first element is: 4\n"
     ]
    }
   ],
   "source": [
    "L= eval (input( \"Enter a list:\"))\n",
    "print (L)\n",
    "print (\"The first element is:\", L[0])      "
   ]
  },
  {
   "cell_type": "code",
   "execution_count": 22,
   "metadata": {},
   "outputs": [
    {
     "name": "stdout",
     "output_type": "stream",
     "text": [
      "[6, 67, 35, 32, 70, 44, 86, 17, 94, 5, 15, 91, 27, 68, 77, 39, 24, 42, 40, 90, 14, 40, 68, 34, 85, 72, 85, 22, 17, 64, 88, 70, 73, 34, 71, 37, 55, 12, 26, 12, 21, 16, 100, 41, 83, 35, 98, 3, 14, 4]\n"
     ]
    }
   ],
   "source": [
    "from random import randint\n",
    "L = []\n",
    "for i in range (50):\n",
    "    L.append(randint(1,100))\n",
    "\n",
    "\n",
    "\n",
    "print (L)\n"
   ]
  },
  {
   "cell_type": "code",
   "execution_count": 24,
   "metadata": {},
   "outputs": [
    {
     "name": "stdout",
     "output_type": "stream",
     "text": [
      "21\n"
     ]
    }
   ],
   "source": [
    "count = 0\n",
    "for item in L:\n",
    "    if item >50:\n",
    "        count = count + 1\n",
    "print (count)"
   ]
  },
  {
   "cell_type": "code",
   "execution_count": 28,
   "metadata": {},
   "outputs": [
    {
     "name": "stdout",
     "output_type": "stream",
     "text": [
      "[6, 67, 35, 32, 70, 44, 86, 17, 94, 5, 15, 91, 27, 68, 77, 39, 24, 42, 40, 90, 14, 40, 68, 34, 85, 72, 85, 22, 17, 64, 88, 70, 73, 34, 71, 37, 55, 12, 26, 12, 21, 16, 100, 41, 83, 35, 98, 3, 14, 4]\n",
      "[0, 0, 1, 1, 1, 1, 0, 0, 0, 0, 0, 2, 0, 2, 1, 1, 2, 0, 0, 0, 1, 1, 0, 1, 0, 1, 1, 0, 0, 0, 0, 1, 0, 2, 2, 0, 1, 0, 1, 2, 1, 1, 0, 1, 0, 0, 0, 0, 0, 0, 0, 0, 0, 0, 1, 0, 0, 0, 0, 0, 0, 0, 0, 1, 0, 0, 1, 2, 0, 2, 1, 1, 1, 0, 0, 0, 1, 0, 0, 0, 0, 0, 1, 0, 2, 1, 0, 1, 0, 1, 1, 0, 0, 1, 0, 0, 0, 1, 0, 1]\n"
     ]
    }
   ],
   "source": [
    "frequencies = []\n",
    "for i in range(1, 101):\n",
    "    frequencies.append( L.count (i) )\n",
    "print (L)\n",
    "print(frequencies)\n"
   ]
  },
  {
   "cell_type": "code",
   "execution_count": 38,
   "metadata": {},
   "outputs": [
    {
     "name": "stdout",
     "output_type": "stream",
     "text": [
      "\n",
      " [1, 2, 3, 4, 5, 6, 7, 8, 9, 10, 11, 12, 13, 14, 15, 16, 17, 18, 19, 20, 21, 22, 23, 24, 25, 26, 27, 28, 29, 30, 31, 32, 33, 34, 35, 36, 37, 38, 39, 40, 41, 42, 43, 44, 45, 46, 47, 48, 49, 50]\n",
      "Two Smallest: 1 2\n",
      "Two Largest: 50 49\n"
     ]
    }
   ],
   "source": [
    "scores= []\n",
    "for i in range(1, 51):\n",
    "    scores.append(i)\n",
    "    \n",
    "\n",
    "scores.sort()\n",
    "print(\"\\n\", scores)\n",
    "\n",
    "\n",
    "print (\"Two Smallest:\", scores[0], scores[1])\n",
    "print (\"Two Largest:\", scores[-1], scores[-2])\n"
   ]
  },
  {
   "cell_type": "markdown",
   "metadata": {},
   "source": [
    "DICCIONARIOS\n",
    "FUNCIONES\n",
    "APLICAR FUNCIONES A DATOS\n",
    "CLOUDE 3.5 BOT\n",
    "PANDAS\n",
    "GIT CHECKOUT"
   ]
  },
  {
   "cell_type": "markdown",
   "metadata": {},
   "source": [
    "###DICCIONARIOS"
   ]
  },
  {
   "cell_type": "code",
   "execution_count": 40,
   "metadata": {},
   "outputs": [
    {
     "data": {
      "text/plain": [
       "'pimenton'"
      ]
     },
     "execution_count": 40,
     "metadata": {},
     "output_type": "execute_result"
    }
   ],
   "source": [
    "list1 = [ \"cebolla\", \"tomate\", \"pimenton\"]\n",
    "len (list1)\n",
    "list1[1]\n",
    "list1[-1] \n",
    "list1[1:]\n",
    "  \n",
    "\n"
   ]
  },
  {
   "cell_type": "code",
   "execution_count": 54,
   "metadata": {},
   "outputs": [],
   "source": [
    "dicc_1= {\n",
    "    \"carmen\": 1234,\n",
    "    \"jose\": 4321,\n",
    "    \"pedro\": 5678,\n",
    "    \"josefino\": [123, 456, 789],\n",
    "    \"ruperto\" : { \"netflix\": 123, \"hbo\": 456, \"amazon\": 789}\n",
    "\n",
    "}"
   ]
  },
  {
   "cell_type": "code",
   "execution_count": 55,
   "metadata": {},
   "outputs": [
    {
     "data": {
      "text/plain": [
       "4321"
      ]
     },
     "execution_count": 55,
     "metadata": {},
     "output_type": "execute_result"
    }
   ],
   "source": [
    "###ver elementos del dicc\n",
    "dicc_1 [\"jose\"]"
   ]
  },
  {
   "cell_type": "code",
   "execution_count": 49,
   "metadata": {},
   "outputs": [
    {
     "ename": "KeyError",
     "evalue": "'pedro'",
     "output_type": "error",
     "traceback": [
      "\u001b[1;31m---------------------------------------------------------------------------\u001b[0m",
      "\u001b[1;31mKeyError\u001b[0m                                  Traceback (most recent call last)",
      "Cell \u001b[1;32mIn[49], line 2\u001b[0m\n\u001b[0;32m      1\u001b[0m \u001b[38;5;66;03m#borrar elemetos\u001b[39;00m\n\u001b[1;32m----> 2\u001b[0m \u001b[38;5;28;01mdel\u001b[39;00m \u001b[43mdicc_1\u001b[49m\u001b[43m \u001b[49m\u001b[43m[\u001b[49m\u001b[38;5;124;43m\"\u001b[39;49m\u001b[38;5;124;43mpedro\u001b[39;49m\u001b[38;5;124;43m\"\u001b[39;49m\u001b[43m]\u001b[49m\n",
      "\u001b[1;31mKeyError\u001b[0m: 'pedro'"
     ]
    }
   ],
   "source": [
    "#borrar elemetos\n",
    "del dicc_1 [\"pedro\"]\n"
   ]
  },
  {
   "cell_type": "code",
   "execution_count": 56,
   "metadata": {},
   "outputs": [
    {
     "data": {
      "text/plain": [
       "{'carmen': 1234,\n",
       " 'jose': 4321,\n",
       " 'pedro': 5678,\n",
       " 'josefino': [123, 456, 789],\n",
       " 'ruperto': {'netflix': 123, 'hbo': 456, 'amazon': 789}}"
      ]
     },
     "execution_count": 56,
     "metadata": {},
     "output_type": "execute_result"
    }
   ],
   "source": [
    "dicc_1"
   ]
  },
  {
   "cell_type": "code",
   "execution_count": 57,
   "metadata": {},
   "outputs": [
    {
     "data": {
      "text/plain": [
       "[123, 456, 789]"
      ]
     },
     "execution_count": 57,
     "metadata": {},
     "output_type": "execute_result"
    }
   ],
   "source": [
    "dicc_1 [ \"josefino\"]\n"
   ]
  },
  {
   "cell_type": "code",
   "execution_count": 59,
   "metadata": {},
   "outputs": [
    {
     "data": {
      "text/plain": [
       "456"
      ]
     },
     "execution_count": 59,
     "metadata": {},
     "output_type": "execute_result"
    }
   ],
   "source": [
    "dicc_1 [\"ruperto\"][\"hbo\"]\n"
   ]
  },
  {
   "cell_type": "code",
   "execution_count": 61,
   "metadata": {},
   "outputs": [],
   "source": [
    "### copia de un diccionario\n",
    "dict_0= dicc_1.copy()\n"
   ]
  },
  {
   "cell_type": "code",
   "execution_count": 64,
   "metadata": {},
   "outputs": [
    {
     "data": {
      "text/plain": [
       "{'carmen': 1234,\n",
       " 'jose': 4321,\n",
       " 'pedro': 5678,\n",
       " 'josefino': [123, 456, 789],\n",
       " 'ruperto': {'netflix': 123, 'hbo': 456, 'amazon': 789}}"
      ]
     },
     "execution_count": 64,
     "metadata": {},
     "output_type": "execute_result"
    }
   ],
   "source": [
    "dict_0"
   ]
  },
  {
   "cell_type": "code",
   "execution_count": 69,
   "metadata": {},
   "outputs": [
    {
     "name": "stdout",
     "output_type": "stream",
     "text": [
      "claves dict_keys(['carmen', 'jose', 'pedro', 'josefino', 'ruperto'])\n",
      "valores dict_values([1234, 4321, 5678, [123, 456, 789], {'netflix': 123, 'hbo': 456, 'amazon': 789}])\n"
     ]
    }
   ],
   "source": [
    "###ver las claves\n",
    "print (\"claves\", dict_0.keys())\n",
    "print (\"valores\", dict_0.values())\n"
   ]
  },
  {
   "cell_type": "code",
   "execution_count": 71,
   "metadata": {},
   "outputs": [],
   "source": [
    "### funciones\n",
    "def suma_dos(num1:int, num2:int):\n",
    "    \"\"\"\n",
    "    Esta es una funcion que suma dos variables\n",
    "    num1: int\n",
    "    num2: int\n",
    "    return: int    \n",
    "    \n",
    "    \"\"\"\n",
    "    resultado= num1+num2\n",
    "    return resultado\n"
   ]
  },
  {
   "cell_type": "code",
   "execution_count": 72,
   "metadata": {},
   "outputs": [
    {
     "data": {
      "text/plain": [
       "6"
      ]
     },
     "execution_count": 72,
     "metadata": {},
     "output_type": "execute_result"
    }
   ],
   "source": [
    "suma_dos(2,4)"
   ]
  },
  {
   "cell_type": "code",
   "execution_count": 73,
   "metadata": {},
   "outputs": [],
   "source": [
    "### funciones\n",
    "def rest_dos(num1:int, num2:int):\n",
    "    \"\"\"\n",
    "    Esta es una funcion que resta dos variables\n",
    "    num1: int\n",
    "    num2: int\n",
    "    return: int    \n",
    "    \n",
    "    \"\"\"\n",
    "    resultado= num1-num2\n",
    "    return resultado\n"
   ]
  },
  {
   "cell_type": "code",
   "execution_count": 77,
   "metadata": {},
   "outputs": [
    {
     "data": {
      "text/plain": [
       "-1"
      ]
     },
     "execution_count": 77,
     "metadata": {},
     "output_type": "execute_result"
    }
   ],
   "source": [
    "### pase de argumento por posicion\n",
    "\n",
    "rest_dos (8, 9)\n"
   ]
  },
  {
   "cell_type": "code",
   "execution_count": 76,
   "metadata": {},
   "outputs": [
    {
     "data": {
      "text/plain": [
       "1"
      ]
     },
     "execution_count": 76,
     "metadata": {},
     "output_type": "execute_result"
    }
   ],
   "source": [
    "\n",
    "### pase de argumento por parametro\n",
    "\n",
    "rest_dos (num2=8, num1=9)\n"
   ]
  },
  {
   "cell_type": "code",
   "execution_count": 78,
   "metadata": {},
   "outputs": [],
   "source": [
    "### funciones\n",
    "def multi_dos (num1, num2):\n",
    "    \"\"\"\n",
    "    Esta es una funcion multiplica  dos numeros si son positivos\n",
    "    num1: int\n",
    "    num2: int\n",
    "    return: int    \n",
    "    \n",
    "    \"\"\"\n",
    "    if (num1>0) and (num2>0):\n",
    "  \n",
    "        return num1*num2\n",
    "    \n",
    "    else: \n",
    "\n",
    "        return \"Error, los numeros son negativos\"\n"
   ]
  },
  {
   "cell_type": "code",
   "execution_count": 81,
   "metadata": {},
   "outputs": [
    {
     "data": {
      "text/plain": [
       "80"
      ]
     },
     "execution_count": 81,
     "metadata": {},
     "output_type": "execute_result"
    }
   ],
   "source": [
    "multi_dos (8,10)"
   ]
  }
 ],
 "metadata": {
  "kernelspec": {
   "display_name": "Python 3",
   "language": "python",
   "name": "python3"
  },
  "language_info": {
   "codemirror_mode": {
    "name": "ipython",
    "version": 3
   },
   "file_extension": ".py",
   "mimetype": "text/x-python",
   "name": "python",
   "nbconvert_exporter": "python",
   "pygments_lexer": "ipython3",
   "version": "3.12.3"
  }
 },
 "nbformat": 4,
 "nbformat_minor": 2
}
