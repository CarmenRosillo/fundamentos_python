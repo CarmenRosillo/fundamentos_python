{
 "cells": [
  {
   "cell_type": "code",
   "execution_count": 6,
   "metadata": {},
   "outputs": [
    {
     "name": "stdout",
     "output_type": "stream",
     "text": [
      "(4, 5, 6)\n",
      "The first element is: 4\n"
     ]
    }
   ],
   "source": [
    "L= eval (input( \"Enter a list:\"))\n",
    "print (L)\n",
    "print (\"The first element is:\", L[0])      "
   ]
  },
  {
   "cell_type": "code",
   "execution_count": 22,
   "metadata": {},
   "outputs": [
    {
     "name": "stdout",
     "output_type": "stream",
     "text": [
      "[6, 67, 35, 32, 70, 44, 86, 17, 94, 5, 15, 91, 27, 68, 77, 39, 24, 42, 40, 90, 14, 40, 68, 34, 85, 72, 85, 22, 17, 64, 88, 70, 73, 34, 71, 37, 55, 12, 26, 12, 21, 16, 100, 41, 83, 35, 98, 3, 14, 4]\n"
     ]
    }
   ],
   "source": [
    "from random import randint\n",
    "L = []\n",
    "for i in range (50):\n",
    "    L.append(randint(1,100))\n",
    "\n",
    "\n",
    "\n",
    "print (L)\n"
   ]
  },
  {
   "cell_type": "code",
   "execution_count": 24,
   "metadata": {},
   "outputs": [
    {
     "name": "stdout",
     "output_type": "stream",
     "text": [
      "21\n"
     ]
    }
   ],
   "source": [
    "count = 0\n",
    "for item in L:\n",
    "    if item >50:\n",
    "        count = count + 1\n",
    "print (count)"
   ]
  },
  {
   "cell_type": "code",
   "execution_count": 28,
   "metadata": {},
   "outputs": [
    {
     "name": "stdout",
     "output_type": "stream",
     "text": [
      "[6, 67, 35, 32, 70, 44, 86, 17, 94, 5, 15, 91, 27, 68, 77, 39, 24, 42, 40, 90, 14, 40, 68, 34, 85, 72, 85, 22, 17, 64, 88, 70, 73, 34, 71, 37, 55, 12, 26, 12, 21, 16, 100, 41, 83, 35, 98, 3, 14, 4]\n",
      "[0, 0, 1, 1, 1, 1, 0, 0, 0, 0, 0, 2, 0, 2, 1, 1, 2, 0, 0, 0, 1, 1, 0, 1, 0, 1, 1, 0, 0, 0, 0, 1, 0, 2, 2, 0, 1, 0, 1, 2, 1, 1, 0, 1, 0, 0, 0, 0, 0, 0, 0, 0, 0, 0, 1, 0, 0, 0, 0, 0, 0, 0, 0, 1, 0, 0, 1, 2, 0, 2, 1, 1, 1, 0, 0, 0, 1, 0, 0, 0, 0, 0, 1, 0, 2, 1, 0, 1, 0, 1, 1, 0, 0, 1, 0, 0, 0, 1, 0, 1]\n"
     ]
    }
   ],
   "source": [
    "frequencies = []\n",
    "for i in range(1, 101):\n",
    "    frequencies.append( L.count (i) )\n",
    "print (L)\n",
    "print(frequencies)\n"
   ]
  },
  {
   "cell_type": "code",
   "execution_count": 38,
   "metadata": {},
   "outputs": [
    {
     "name": "stdout",
     "output_type": "stream",
     "text": [
      "\n",
      " [1, 2, 3, 4, 5, 6, 7, 8, 9, 10, 11, 12, 13, 14, 15, 16, 17, 18, 19, 20, 21, 22, 23, 24, 25, 26, 27, 28, 29, 30, 31, 32, 33, 34, 35, 36, 37, 38, 39, 40, 41, 42, 43, 44, 45, 46, 47, 48, 49, 50]\n",
      "Two Smallest: 1 2\n",
      "Two Largest: 50 49\n"
     ]
    }
   ],
   "source": [
    "scores= []\n",
    "for i in range(1, 51):\n",
    "    scores.append(i)\n",
    "    \n",
    "\n",
    "scores.sort()\n",
    "print(\"\\n\", scores)\n",
    "\n",
    "\n",
    "print (\"Two Smallest:\", scores[0], scores[1])\n",
    "print (\"Two Largest:\", scores[-1], scores[-2])\n"
   ]
  }
 ],
 "metadata": {
  "kernelspec": {
   "display_name": "Python 3",
   "language": "python",
   "name": "python3"
  },
  "language_info": {
   "codemirror_mode": {
    "name": "ipython",
    "version": 3
   },
   "file_extension": ".py",
   "mimetype": "text/x-python",
   "name": "python",
   "nbconvert_exporter": "python",
   "pygments_lexer": "ipython3",
   "version": "3.12.3"
  }
 },
 "nbformat": 4,
 "nbformat_minor": 2
}
