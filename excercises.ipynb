{
 "cells": [
  {
   "cell_type": "code",
   "execution_count": 8,
   "metadata": {},
   "outputs": [],
   "source": [
    "temp= eval (input (\"Enter a temperature in Celsius:\"))\n",
    "print (\"The temperature in Fahrenheit is\", (temp*9/5)+32)"
   ]
  },
  {
   "cell_type": "code",
   "execution_count": null,
   "metadata": {},
   "outputs": [
    {
     "name": "stdout",
     "output_type": "stream",
     "text": [
      "the average of the number you entered is: 3.5\n"
     ]
    }
   ],
   "source": [
    "num1= eval (input ( \"Enter the first number:\" ))\n",
    "num2= eval (input ( \"Enter the second number:\" ))   \n",
    "print ( \"the average of the number you entered is:\", (num1+num2)/2)\n"
   ]
  },
  {
   "cell_type": "code",
   "execution_count": null,
   "metadata": {},
   "outputs": [
    {
     "name": "stdout",
     "output_type": "stream",
     "text": [
      "Hello carmen\n"
     ]
    }
   ],
   "source": [
    "name= input (\"Enter your name: \")\n",
    "print (\"Hello \" + name )"
   ]
  },
  {
   "cell_type": "code",
   "execution_count": null,
   "metadata": {},
   "outputs": [
    {
     "name": "stdout",
     "output_type": "stream",
     "text": [
      "*******************\n",
      "*******************\n",
      "*******************\n",
      "*******************\n"
     ]
    }
   ],
   "source": [
    "print (\"*******************\")\n",
    "print (\"*******************\")\n",
    "print (\"*******************\")\n",
    "print (\"*******************\")"
   ]
  },
  {
   "cell_type": "code",
   "execution_count": 3,
   "metadata": {},
   "outputs": [
    {
     "name": "stdout",
     "output_type": "stream",
     "text": [
      "* ********************\n",
      "*                   *\n",
      "*                   *\n",
      "*********************\n"
     ]
    }
   ],
   "source": [
    "print (\"*********************\")\n",
    "print (\"*                   *\")\n",
    "print (\"*                   *\")\n",
    "print (\"*********************\")"
   ]
  },
  {
   "cell_type": "code",
   "execution_count": 4,
   "metadata": {},
   "outputs": [
    {
     "name": "stdout",
     "output_type": "stream",
     "text": [
      "*\n",
      "**\n",
      "***\n",
      "****\n"
     ]
    }
   ],
   "source": [
    "print (\"*\")\n",
    "print (\"**\")\n",
    "print (\"***\")\n",
    "print (\"****\")\n"
   ]
  },
  {
   "cell_type": "code",
   "execution_count": 6,
   "metadata": {},
   "outputs": [
    {
     "name": "stdout",
     "output_type": "stream",
     "text": [
      " the result is: 0.1017249004865104\n"
     ]
    }
   ],
   "source": [
    "print (\" the result is:\", (512-282)/(47*48+5))"
   ]
  },
  {
   "cell_type": "code",
   "execution_count": 1,
   "metadata": {},
   "outputs": [
    {
     "name": "stdout",
     "output_type": "stream",
     "text": [
      "The Square of 8 is: 64.\n"
     ]
    }
   ],
   "source": [
    "Num= eval (input( \"Enter a number:\"))\n",
    "print ( \"The Square of \", ( Num ) , \" is: \" , ( Num*Num ), \".\", sep=\"\" )\n"
   ]
  },
  {
   "cell_type": "code",
   "execution_count": 2,
   "metadata": {},
   "outputs": [
    {
     "name": "stdout",
     "output_type": "stream",
     "text": [
      "8---16---24---32---40\n"
     ]
    }
   ],
   "source": [
    "X= eval (input( \"Enter a Number:\"))\n",
    "print (X, \"---\", (2*X), \"---\", (3*X), \"---\", (4*X), \"---\", (5*X), sep=\"\")\n"
   ]
  },
  {
   "cell_type": "code",
   "execution_count": null,
   "metadata": {},
   "outputs": [],
   "source": [
    "W= eval (input ( \"Enter your weigth in kg:\" ) )\n",
    "print ( \"your weigth in pounds is:\", (W*2.2))\n"
   ]
  },
  {
   "cell_type": "code",
   "execution_count": 4,
   "metadata": {},
   "outputs": [
    {
     "name": "stdout",
     "output_type": "stream",
     "text": [
      "The Total of the three numbers is:  156\n",
      "The Average of the three numbers is: 52.0\n"
     ]
    }
   ],
   "source": [
    "number1= eval (input(\"Enter first number: \"))\n",
    "number2= eval (input(\"Enter second number: \"))\n",
    "number3= eval (input(\"Enter third number: \"))   \n",
    "total= number1+number2+number3\n",
    "average= total/3    \n",
    "print (\"The Total of the three numbers is: \", total) \n",
    "print (\"The Average of the three numbers is:\", average)\n",
    "\n"
   ]
  },
  {
   "cell_type": "code",
   "execution_count": 5,
   "metadata": {},
   "outputs": [
    {
     "name": "stdout",
     "output_type": "stream",
     "text": [
      "The tip is 7.800000000000001\n",
      "The total is 85.8\n"
     ]
    }
   ],
   "source": [
    "price_meal= eval (input(\"Enter the price of the meal: \"))\n",
    "tip= eval (input(\"Enter the tip percentage: \"))\n",
    "tip_amount= price_meal * (tip/100)  \n",
    "total= price_meal + tip_amount\n",
    "print(\"The tip is\", tip_amount) \n",
    "print(\"The total is\", total)    \n"
   ]
  }
 ],
 "metadata": {
  "kernelspec": {
   "display_name": "Python 3",
   "language": "python",
   "name": "python3"
  },
  "language_info": {
   "codemirror_mode": {
    "name": "ipython",
    "version": 3
   },
   "file_extension": ".py",
   "mimetype": "text/x-python",
   "name": "python",
   "nbconvert_exporter": "python",
   "pygments_lexer": "ipython3",
   "version": "3.12.3"
  }
 },
 "nbformat": 4,
 "nbformat_minor": 2
}
