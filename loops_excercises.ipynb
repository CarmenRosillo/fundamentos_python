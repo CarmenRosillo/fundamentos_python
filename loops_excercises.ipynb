{
 "cells": [
  {
   "cell_type": "code",
   "execution_count": 3,
   "metadata": {},
   "outputs": [
    {
     "name": "stdout",
     "output_type": "stream",
     "text": [
      "Hello\n",
      "Hello\n",
      "Hello\n",
      "Hello\n",
      "Hello\n",
      "Hello\n",
      "Hello\n",
      "Hello\n",
      "Hello\n",
      "Hello\n"
     ]
    }
   ],
   "source": [
    "for i in range ( 10 ) :\n",
    "    print( \"Hello\" )\n"
   ]
  },
  {
   "cell_type": "code",
   "execution_count": 7,
   "metadata": {},
   "outputs": [
    {
     "name": "stdout",
     "output_type": "stream",
     "text": [
      "The Square of the number 8 is: 64\n",
      "The Square of the number 2 is: 4\n",
      "The Square of the number 9 is: 81\n",
      "The loop is now done.\n"
     ]
    }
   ],
   "source": [
    "for i in range (3) :\n",
    "    num= eval(input(\"Enter a number: \"))\n",
    "    print(\"The Square of the number\", num,  \"is:\", num*num)\n",
    "print (\"The loop is now done.\")\n",
    "\n"
   ]
  },
  {
   "cell_type": "code",
   "execution_count": 8,
   "metadata": {},
   "outputs": [
    {
     "name": "stdout",
     "output_type": "stream",
     "text": [
      "A\n",
      "B\n",
      "C\n",
      "D\n",
      "C\n",
      "D\n",
      "C\n",
      "D\n",
      "C\n",
      "D\n",
      "C\n",
      "D\n",
      "E\n"
     ]
    }
   ],
   "source": [
    "print (\"A\")\n",
    "print (\"B\")\n",
    "for i in range (5):\n",
    "    print (\"C\")\n",
    "    print (\"D\")\n",
    "print (\"E\")\n"
   ]
  },
  {
   "cell_type": "code",
   "execution_count": 9,
   "metadata": {},
   "outputs": [
    {
     "name": "stdout",
     "output_type": "stream",
     "text": [
      "A\n",
      "B\n",
      "C\n",
      "C\n",
      "C\n",
      "C\n",
      "C\n",
      "D\n",
      "D\n",
      "D\n",
      "D\n",
      "D\n",
      "E\n"
     ]
    }
   ],
   "source": [
    "print (\"A\")\n",
    "print (\"B\")\n",
    "for i in range (5):\n",
    "    print (\"C\")\n",
    "for i in range (5):   \n",
    "    print (\"D\")\n",
    "print (\"E\")\n"
   ]
  },
  {
   "cell_type": "code",
   "execution_count": 11,
   "metadata": {},
   "outputs": [
    {
     "name": "stdout",
     "output_type": "stream",
     "text": [
      "0\n",
      "1\n",
      "2\n",
      "3\n",
      "4\n",
      "5\n",
      "6\n",
      "7\n",
      "8\n",
      "9\n",
      "10\n",
      "11\n",
      "12\n",
      "13\n",
      "14\n",
      "15\n",
      "16\n",
      "17\n",
      "18\n",
      "19\n"
     ]
    }
   ],
   "source": [
    "for i in range (20):\n",
    "    print (i)   "
   ]
  },
  {
   "cell_type": "code",
   "execution_count": 13,
   "metadata": {},
   "outputs": [
    {
     "name": "stdout",
     "output_type": "stream",
     "text": [
      "1 ---Hello\n",
      "2 ---Hello\n",
      "3 ---Hello\n"
     ]
    }
   ],
   "source": [
    "for i in range (3): \n",
    "    print (i+1 , \"---Hello\")\n"
   ]
  },
  {
   "cell_type": "code",
   "execution_count": 17,
   "metadata": {},
   "outputs": [
    {
     "name": "stdout",
     "output_type": "stream",
     "text": [
      "1\n",
      "2\n",
      "3\n",
      "4\n",
      "5\n",
      "6\n",
      "7\n",
      "8\n",
      "9\n",
      "10\n",
      "11\n",
      "12\n",
      "13\n",
      "14\n",
      "15\n",
      "16\n",
      "17\n",
      "18\n",
      "19\n",
      "20\n",
      "21\n",
      "22\n",
      "23\n",
      "24\n",
      "25\n",
      "26\n",
      "27\n",
      "28\n",
      "29\n",
      "30\n",
      "31\n",
      "32\n",
      "33\n",
      "34\n",
      "35\n",
      "36\n",
      "37\n",
      "38\n",
      "39\n",
      "40\n",
      "41\n",
      "42\n",
      "43\n",
      "44\n",
      "45\n",
      "46\n",
      "47\n",
      "48\n",
      "49\n",
      "50\n",
      "51\n",
      "52\n",
      "53\n",
      "54\n",
      "55\n",
      "56\n",
      "57\n",
      "58\n",
      "59\n",
      "60\n",
      "61\n",
      "62\n",
      "63\n",
      "64\n",
      "65\n",
      "66\n",
      "67\n",
      "68\n",
      "69\n",
      "70\n",
      "71\n",
      "72\n",
      "73\n",
      "74\n",
      "75\n",
      "76\n",
      "77\n",
      "78\n",
      "79\n",
      "80\n",
      "81\n",
      "82\n",
      "83\n",
      "84\n",
      "85\n",
      "86\n",
      "87\n",
      "88\n",
      "89\n",
      "90\n",
      "91\n",
      "92\n",
      "93\n",
      "94\n",
      "95\n",
      "96\n",
      "97\n",
      "98\n",
      "99\n",
      "100\n"
     ]
    }
   ],
   "source": [
    "for i in range (100):\n",
    "    print (i+1)"
   ]
  },
  {
   "cell_type": "code",
   "execution_count": 28,
   "metadata": {},
   "outputs": [
    {
     "name": "stdout",
     "output_type": "stream",
     "text": [
      "5 4 3 2 1 Blast off!!!\n"
     ]
    }
   ],
   "source": [
    "for i in range (5,0,-1):\n",
    "    print (i, end= \" \")\n",
    "print (\"Blast off!!!\")\n"
   ]
  },
  {
   "cell_type": "code",
   "execution_count": 33,
   "metadata": {},
   "outputs": [
    {
     "name": "stdout",
     "output_type": "stream",
     "text": [
      " *  *  *  *  *  * \n",
      " *  *  *  *  *  * \n",
      " *  *  *  *  *  * \n",
      " *  *  *  *  *  * \n"
     ]
    }
   ],
   "source": [
    "for i in range (4):\n",
    "    print (\" * \" *6 )\n"
   ]
  },
  {
   "cell_type": "code",
   "execution_count": 37,
   "metadata": {},
   "outputs": [
    {
     "name": "stdout",
     "output_type": "stream",
     "text": [
      " * \n",
      " *  * \n",
      " *  *  * \n",
      " *  *  *  * \n",
      " *  *  *  *  * \n",
      " *  *  *  *  *  * \n"
     ]
    }
   ],
   "source": [
    "for i in range (6):\n",
    "    print (\" * \" * (i+1))\n",
    "\n"
   ]
  },
  {
   "cell_type": "code",
   "execution_count": 40,
   "metadata": {},
   "outputs": [
    {
     "name": "stdout",
     "output_type": "stream",
     "text": [
      "1 CarmenLu\n",
      "2 CarmenLu\n",
      "3 CarmenLu\n",
      "4 CarmenLu\n",
      "5 CarmenLu\n",
      "6 CarmenLu\n",
      "7 CarmenLu\n",
      "8 CarmenLu\n",
      "9 CarmenLu\n",
      "10 CarmenLu\n",
      "11 CarmenLu\n",
      "12 CarmenLu\n",
      "13 CarmenLu\n",
      "14 CarmenLu\n",
      "15 CarmenLu\n",
      "16 CarmenLu\n",
      "17 CarmenLu\n",
      "18 CarmenLu\n",
      "19 CarmenLu\n",
      "20 CarmenLu\n",
      "21 CarmenLu\n",
      "22 CarmenLu\n",
      "23 CarmenLu\n",
      "24 CarmenLu\n",
      "25 CarmenLu\n",
      "26 CarmenLu\n",
      "27 CarmenLu\n",
      "28 CarmenLu\n",
      "29 CarmenLu\n",
      "30 CarmenLu\n",
      "31 CarmenLu\n",
      "32 CarmenLu\n",
      "33 CarmenLu\n",
      "34 CarmenLu\n",
      "35 CarmenLu\n",
      "36 CarmenLu\n",
      "37 CarmenLu\n",
      "38 CarmenLu\n",
      "39 CarmenLu\n",
      "40 CarmenLu\n",
      "41 CarmenLu\n",
      "42 CarmenLu\n",
      "43 CarmenLu\n",
      "44 CarmenLu\n",
      "45 CarmenLu\n",
      "46 CarmenLu\n",
      "47 CarmenLu\n",
      "48 CarmenLu\n",
      "49 CarmenLu\n",
      "50 CarmenLu\n",
      "51 CarmenLu\n",
      "52 CarmenLu\n",
      "53 CarmenLu\n",
      "54 CarmenLu\n",
      "55 CarmenLu\n",
      "56 CarmenLu\n",
      "57 CarmenLu\n",
      "58 CarmenLu\n",
      "59 CarmenLu\n",
      "60 CarmenLu\n",
      "61 CarmenLu\n",
      "62 CarmenLu\n",
      "63 CarmenLu\n",
      "64 CarmenLu\n",
      "65 CarmenLu\n",
      "66 CarmenLu\n",
      "67 CarmenLu\n",
      "68 CarmenLu\n",
      "69 CarmenLu\n",
      "70 CarmenLu\n",
      "71 CarmenLu\n",
      "72 CarmenLu\n",
      "73 CarmenLu\n",
      "74 CarmenLu\n",
      "75 CarmenLu\n",
      "76 CarmenLu\n",
      "77 CarmenLu\n",
      "78 CarmenLu\n",
      "79 CarmenLu\n",
      "80 CarmenLu\n",
      "81 CarmenLu\n",
      "82 CarmenLu\n",
      "83 CarmenLu\n",
      "84 CarmenLu\n",
      "85 CarmenLu\n",
      "86 CarmenLu\n",
      "87 CarmenLu\n",
      "88 CarmenLu\n",
      "89 CarmenLu\n",
      "90 CarmenLu\n",
      "91 CarmenLu\n",
      "92 CarmenLu\n",
      "93 CarmenLu\n",
      "94 CarmenLu\n",
      "95 CarmenLu\n",
      "96 CarmenLu\n",
      "97 CarmenLu\n",
      "98 CarmenLu\n",
      "99 CarmenLu\n",
      "100 CarmenLu\n"
     ]
    }
   ],
   "source": [
    "for i in range (100):\n",
    "    print ( i+1, \"CarmenLu\")\n"
   ]
  },
  {
   "cell_type": "code",
   "execution_count": 58,
   "metadata": {},
   "outputs": [
    {
     "name": "stdout",
     "output_type": "stream",
     "text": [
      "CarmenLu CarmenLu CarmenLu CarmenLu CarmenLu CarmenLu CarmenLu CarmenLu CarmenLu CarmenLu CarmenLu CarmenLu CarmenLu CarmenLu CarmenLu CarmenLu CarmenLu CarmenLu CarmenLu CarmenLu CarmenLu CarmenLu CarmenLu CarmenLu CarmenLu CarmenLu CarmenLu CarmenLu CarmenLu CarmenLu CarmenLu CarmenLu CarmenLu CarmenLu CarmenLu CarmenLu CarmenLu CarmenLu CarmenLu CarmenLu \n",
      "CarmenLu CarmenLu CarmenLu CarmenLu CarmenLu CarmenLu CarmenLu CarmenLu CarmenLu CarmenLu CarmenLu CarmenLu CarmenLu CarmenLu CarmenLu CarmenLu CarmenLu CarmenLu CarmenLu CarmenLu \n",
      "CarmenLu CarmenLu CarmenLu CarmenLu CarmenLu CarmenLu CarmenLu CarmenLu CarmenLu CarmenLu CarmenLu CarmenLu CarmenLu CarmenLu CarmenLu CarmenLu CarmenLu CarmenLu CarmenLu CarmenLu \n",
      "CarmenLu CarmenLu CarmenLu CarmenLu CarmenLu CarmenLu CarmenLu CarmenLu CarmenLu CarmenLu CarmenLu CarmenLu CarmenLu CarmenLu CarmenLu CarmenLu CarmenLu CarmenLu CarmenLu CarmenLu \n",
      "CarmenLu CarmenLu CarmenLu CarmenLu CarmenLu CarmenLu CarmenLu CarmenLu CarmenLu CarmenLu CarmenLu CarmenLu CarmenLu CarmenLu CarmenLu CarmenLu CarmenLu CarmenLu CarmenLu CarmenLu \n",
      "CarmenLu CarmenLu CarmenLu CarmenLu CarmenLu CarmenLu CarmenLu CarmenLu CarmenLu CarmenLu CarmenLu CarmenLu CarmenLu CarmenLu CarmenLu CarmenLu CarmenLu CarmenLu CarmenLu CarmenLu \n",
      "CarmenLu CarmenLu CarmenLu CarmenLu CarmenLu CarmenLu CarmenLu CarmenLu CarmenLu CarmenLu CarmenLu CarmenLu CarmenLu CarmenLu CarmenLu CarmenLu CarmenLu CarmenLu CarmenLu CarmenLu \n",
      "CarmenLu CarmenLu CarmenLu CarmenLu CarmenLu CarmenLu CarmenLu CarmenLu CarmenLu CarmenLu CarmenLu CarmenLu CarmenLu CarmenLu CarmenLu CarmenLu CarmenLu CarmenLu CarmenLu CarmenLu \n",
      "CarmenLu CarmenLu CarmenLu CarmenLu CarmenLu CarmenLu CarmenLu CarmenLu CarmenLu CarmenLu CarmenLu CarmenLu CarmenLu CarmenLu CarmenLu CarmenLu CarmenLu CarmenLu CarmenLu CarmenLu \n",
      "CarmenLu CarmenLu CarmenLu CarmenLu CarmenLu CarmenLu CarmenLu CarmenLu CarmenLu CarmenLu CarmenLu CarmenLu CarmenLu CarmenLu CarmenLu CarmenLu CarmenLu CarmenLu CarmenLu CarmenLu \n",
      "CarmenLu CarmenLu CarmenLu CarmenLu CarmenLu CarmenLu CarmenLu CarmenLu CarmenLu CarmenLu CarmenLu CarmenLu CarmenLu CarmenLu CarmenLu CarmenLu CarmenLu CarmenLu CarmenLu CarmenLu \n",
      "CarmenLu CarmenLu CarmenLu CarmenLu CarmenLu CarmenLu CarmenLu CarmenLu CarmenLu CarmenLu CarmenLu CarmenLu CarmenLu CarmenLu CarmenLu CarmenLu CarmenLu CarmenLu CarmenLu CarmenLu \n",
      "CarmenLu CarmenLu CarmenLu CarmenLu CarmenLu CarmenLu CarmenLu CarmenLu CarmenLu CarmenLu CarmenLu CarmenLu CarmenLu CarmenLu CarmenLu CarmenLu CarmenLu CarmenLu CarmenLu CarmenLu \n",
      "CarmenLu CarmenLu CarmenLu CarmenLu CarmenLu CarmenLu CarmenLu CarmenLu CarmenLu CarmenLu CarmenLu CarmenLu CarmenLu CarmenLu CarmenLu CarmenLu CarmenLu CarmenLu CarmenLu CarmenLu \n",
      "CarmenLu CarmenLu CarmenLu CarmenLu CarmenLu CarmenLu CarmenLu CarmenLu CarmenLu CarmenLu CarmenLu CarmenLu CarmenLu CarmenLu CarmenLu CarmenLu CarmenLu CarmenLu CarmenLu CarmenLu \n",
      "CarmenLu CarmenLu CarmenLu CarmenLu CarmenLu CarmenLu CarmenLu CarmenLu CarmenLu CarmenLu CarmenLu CarmenLu CarmenLu CarmenLu CarmenLu CarmenLu CarmenLu CarmenLu CarmenLu CarmenLu \n",
      "CarmenLu CarmenLu CarmenLu CarmenLu CarmenLu CarmenLu CarmenLu CarmenLu CarmenLu CarmenLu CarmenLu CarmenLu CarmenLu CarmenLu CarmenLu CarmenLu CarmenLu CarmenLu CarmenLu CarmenLu \n",
      "CarmenLu CarmenLu CarmenLu CarmenLu CarmenLu CarmenLu CarmenLu CarmenLu CarmenLu CarmenLu CarmenLu CarmenLu CarmenLu CarmenLu CarmenLu CarmenLu CarmenLu CarmenLu CarmenLu CarmenLu \n",
      "CarmenLu CarmenLu CarmenLu CarmenLu CarmenLu CarmenLu CarmenLu CarmenLu CarmenLu CarmenLu CarmenLu CarmenLu CarmenLu CarmenLu CarmenLu CarmenLu CarmenLu CarmenLu CarmenLu CarmenLu \n",
      "CarmenLu CarmenLu CarmenLu CarmenLu CarmenLu CarmenLu CarmenLu CarmenLu CarmenLu CarmenLu CarmenLu CarmenLu CarmenLu CarmenLu CarmenLu CarmenLu CarmenLu CarmenLu CarmenLu CarmenLu \n"
     ]
    }
   ],
   "source": [
    "for i in range (20):\n",
    "    print (\"CarmenLu\", end=\" \")\n",
    "for i in range (20):\n",
    "    print (\"CarmenLu \"*20)\n",
    "\n",
    "\n",
    "    \n"
   ]
  },
  {
   "cell_type": "code",
   "execution_count": null,
   "metadata": {},
   "outputs": [],
   "source": []
  },
  {
   "cell_type": "code",
   "execution_count": 59,
   "metadata": {},
   "outputs": [
    {
     "name": "stdout",
     "output_type": "stream",
     "text": [
      "1 CarmenLu\n",
      "2 CarmenLu\n",
      "3 CarmenLu\n",
      "4 CarmenLu\n",
      "5 CarmenLu\n",
      "6 CarmenLu\n",
      "7 CarmenLu\n",
      "8 CarmenLu\n",
      "9 CarmenLu\n",
      "10 CarmenLu\n",
      "11 CarmenLu\n",
      "12 CarmenLu\n",
      "13 CarmenLu\n",
      "14 CarmenLu\n",
      "15 CarmenLu\n",
      "16 CarmenLu\n",
      "17 CarmenLu\n",
      "18 CarmenLu\n",
      "19 CarmenLu\n",
      "20 CarmenLu\n",
      "21 CarmenLu\n",
      "22 CarmenLu\n",
      "23 CarmenLu\n",
      "24 CarmenLu\n",
      "25 CarmenLu\n",
      "26 CarmenLu\n",
      "27 CarmenLu\n",
      "28 CarmenLu\n",
      "29 CarmenLu\n",
      "30 CarmenLu\n",
      "31 CarmenLu\n",
      "32 CarmenLu\n",
      "33 CarmenLu\n",
      "34 CarmenLu\n",
      "35 CarmenLu\n",
      "36 CarmenLu\n",
      "37 CarmenLu\n",
      "38 CarmenLu\n",
      "39 CarmenLu\n",
      "40 CarmenLu\n",
      "41 CarmenLu\n",
      "42 CarmenLu\n",
      "43 CarmenLu\n",
      "44 CarmenLu\n",
      "45 CarmenLu\n",
      "46 CarmenLu\n",
      "47 CarmenLu\n",
      "48 CarmenLu\n",
      "49 CarmenLu\n",
      "50 CarmenLu\n",
      "51 CarmenLu\n",
      "52 CarmenLu\n",
      "53 CarmenLu\n",
      "54 CarmenLu\n",
      "55 CarmenLu\n",
      "56 CarmenLu\n",
      "57 CarmenLu\n",
      "58 CarmenLu\n",
      "59 CarmenLu\n",
      "60 CarmenLu\n",
      "61 CarmenLu\n",
      "62 CarmenLu\n",
      "63 CarmenLu\n",
      "64 CarmenLu\n",
      "65 CarmenLu\n",
      "66 CarmenLu\n",
      "67 CarmenLu\n",
      "68 CarmenLu\n",
      "69 CarmenLu\n",
      "70 CarmenLu\n",
      "71 CarmenLu\n",
      "72 CarmenLu\n",
      "73 CarmenLu\n",
      "74 CarmenLu\n",
      "75 CarmenLu\n",
      "76 CarmenLu\n",
      "77 CarmenLu\n",
      "78 CarmenLu\n",
      "79 CarmenLu\n",
      "80 CarmenLu\n",
      "81 CarmenLu\n",
      "82 CarmenLu\n",
      "83 CarmenLu\n",
      "84 CarmenLu\n",
      "85 CarmenLu\n",
      "86 CarmenLu\n",
      "87 CarmenLu\n",
      "88 CarmenLu\n",
      "89 CarmenLu\n",
      "90 CarmenLu\n",
      "91 CarmenLu\n",
      "92 CarmenLu\n",
      "93 CarmenLu\n",
      "94 CarmenLu\n",
      "95 CarmenLu\n",
      "96 CarmenLu\n",
      "97 CarmenLu\n",
      "98 CarmenLu\n",
      "99 CarmenLu\n",
      "100 CarmenLu\n"
     ]
    }
   ],
   "source": [
    "for i in range (100):\n",
    "    print (i+1, \"CarmenLu\")"
   ]
  },
  {
   "cell_type": "code",
   "execution_count": 64,
   "metadata": {},
   "outputs": [
    {
     "name": "stdout",
     "output_type": "stream",
     "text": [
      "1 --- 1\n",
      "2 --- 4\n",
      "3 --- 9\n",
      "4 --- 16\n",
      "5 --- 25\n",
      "6 --- 36\n",
      "7 --- 49\n",
      "8 --- 64\n",
      "9 --- 81\n",
      "10 --- 100\n",
      "11 --- 121\n",
      "12 --- 144\n",
      "13 --- 169\n",
      "14 --- 196\n",
      "15 --- 225\n",
      "16 --- 256\n",
      "17 --- 289\n",
      "18 --- 324\n",
      "19 --- 361\n",
      "20 --- 400\n"
     ]
    }
   ],
   "source": [
    "for i in range (20):\n",
    "    print (i+1, \"---\", (i+1)*(i+1))"
   ]
  },
  {
   "cell_type": "code",
   "execution_count": 71,
   "metadata": {},
   "outputs": [
    {
     "name": "stdout",
     "output_type": "stream",
     "text": [
      "8, 11, 14, 17, 20, 23, 26, 29, 32, 35, 38, 41, 44, 47, 50, 53, 56, 59, 62, 65, 68, 71, 74, 77, 80, 83, 86, 89, "
     ]
    }
   ],
   "source": [
    "for i in range (8,90,3):\n",
    "    print (i, end=\", \" )"
   ]
  },
  {
   "cell_type": "code",
   "execution_count": 76,
   "metadata": {},
   "outputs": [
    {
     "name": "stdout",
     "output_type": "stream",
     "text": [
      "100, 98, 96, 94, 92, 90, 88, 86, 84, 82, 80, 78, 76, 74, 72, 70, 68, 66, 64, 62, 60, 58, 56, 54, 52, 50, 48, 46, 44, 42, 40, 38, 36, 34, 32, 30, 28, 26, 24, 22, 20, 18, 16, 14, 12, 10, 8, 6, 4, 2, "
     ]
    }
   ],
   "source": [
    "for i in range (100,1,-2):\n",
    "    print (i, end=\", \" )"
   ]
  },
  {
   "cell_type": "code",
   "execution_count": 80,
   "metadata": {},
   "outputs": [
    {
     "name": "stdout",
     "output_type": "stream",
     "text": [
      "AAAAAAAAAABBBBBBBCDCDCDCDEFFFFFFG\n"
     ]
    }
   ],
   "source": [
    "for i in range (10):\n",
    "    print (\"A\" , end = \"\")\n",
    "for i in range (7):\n",
    "    print (\"B\", end = \"\")\n",
    "for i in range (4):\n",
    "    print (\"CD\", end = \"\")\n",
    "print (\"E\", end = \"\") \n",
    "for i in range (6):\n",
    "    print (\"F\", end = \"\")    \n",
    "print (\"G\")\n"
   ]
  },
  {
   "cell_type": "code",
   "execution_count": 92,
   "metadata": {},
   "outputs": [
    {
     "name": "stdout",
     "output_type": "stream",
     "text": [
      "carmen\n",
      "carmen\n",
      "carmen\n",
      "carmen\n",
      "carmen\n"
     ]
    }
   ],
   "source": [
    "name= input ( \"Enter your Name:\") \n",
    "times= eval (input ( \"Enter the number of times to print:\"))\n",
    "for i in range (times):         \n",
    "    print (name)\n"
   ]
  },
  {
   "cell_type": "code",
   "execution_count": 104,
   "metadata": {},
   "outputs": [
    {
     "name": "stdout",
     "output_type": "stream",
     "text": [
      "0 1 1 2 3 5 8 13 21 34 "
     ]
    }
   ],
   "source": [
    "Nums_to_Generate= eval (input(\"Enter the number of Fibonacci numbers to generate: \"))\n",
    "num1= 0\n",
    "num2= 1\n",
    "for i in range (Nums_to_Generate):\n",
    "    print (num1, end= \" \")\n",
    "    num3= num1+num2\n",
    "    num1= num2\n",
    "    num2= num3\n"
   ]
  },
  {
   "cell_type": "code",
   "execution_count": 2,
   "metadata": {},
   "outputs": [
    {
     "name": "stdout",
     "output_type": "stream",
     "text": [
      "Hola\n",
      "Hola\n",
      "Hola\n",
      "Hola\n",
      "Hola\n"
     ]
    }
   ],
   "source": [
    "for var in range (5):\n",
    "    print(\"Hola\")"
   ]
  },
  {
   "cell_type": "code",
   "execution_count": 5,
   "metadata": {},
   "outputs": [
    {
     "name": "stdout",
     "output_type": "stream",
     "text": [
      "0\n",
      "1\n",
      "2\n",
      "3\n",
      "4\n"
     ]
    }
   ],
   "source": [
    "for value in range (5):\n",
    "    print(value)\n"
   ]
  },
  {
   "cell_type": "code",
   "execution_count": 11,
   "metadata": {},
   "outputs": [
    {
     "name": "stdout",
     "output_type": "stream",
     "text": [
      "El cuadrado de 1 es 1\n",
      "El cuadrado de 2 es 4\n",
      "El cuadrado de 3 es 9\n",
      "El cuadrado de 4 es 16\n",
      "El cuadrado de 5 es 25\n",
      "El cuadrado de 6 es 36\n",
      "El cuadrado de 7 es 49\n",
      "El cuadrado de 8 es 64\n",
      "El cuadrado de 9 es 81\n",
      "El cuadrado de 10 es 100\n"
     ]
    }
   ],
   "source": [
    "for value in range (1,11):\n",
    "    print(f\"El cuadrado de {value} es {value**2}\")\n"
   ]
  },
  {
   "cell_type": "code",
   "execution_count": 12,
   "metadata": {},
   "outputs": [
    {
     "name": "stdout",
     "output_type": "stream",
     "text": [
      "10\n",
      "9\n",
      "8\n",
      "7\n",
      "6\n",
      "5\n",
      "4\n",
      "3\n",
      "2\n",
      "1\n"
     ]
    }
   ],
   "source": [
    "for value in range (10, 0, -1):\n",
    "    print(value)    "
   ]
  },
  {
   "cell_type": "code",
   "execution_count": 15,
   "metadata": {},
   "outputs": [
    {
     "name": "stdout",
     "output_type": "stream",
     "text": [
      "tengo clases\n"
     ]
    }
   ],
   "source": [
    "#Condicionales\n",
    "#operadores de comparacion\n",
    "#== igualdad\n",
    "#!= desigualdad\n",
    "#> mayor que\n",
    "#< menor que\n",
    "#>= mayor o igual que\n",
    "#<= menor o igual que\n",
    "#is, is not, in, not in\n",
    "\n",
    "\n",
    "day = \"domingo\"\n",
    "if (day == \"domingo\"):\n",
    "    print(\"tengo clases\")"
   ]
  },
  {
   "cell_type": "code",
   "execution_count": 18,
   "metadata": {},
   "outputs": [
    {
     "name": "stdout",
     "output_type": "stream",
     "text": [
      "domingo\n",
      "tengo clases\n"
     ]
    }
   ],
   "source": [
    "#ingreso por teclado\n",
    "\n",
    "day = input(\"Dia de la semana: \")\n",
    "#convertir minuscula\n",
    "day = day.lower()  \n",
    " \n",
    "print(day)\n",
    "\n",
    "if (day == \"domingo\"):\n",
    "    print(\"tengo clases\")\n",
    "else:\n",
    "    print(\"no tengo clases\")    \n"
   ]
  },
  {
   "cell_type": "code",
   "execution_count": 25,
   "metadata": {},
   "outputs": [
    {
     "name": "stdout",
     "output_type": "stream",
     "text": [
      "2 es par\n",
      "4 es par\n",
      "6 es par\n",
      "8 es par\n",
      "10 es par\n"
     ]
    }
   ],
   "source": [
    "# buscar pares del 1 al 10\n",
    "for i in range(1, 11):\n",
    "    if i % 2 == 0:\n",
    "        print(i, \"es par\")"
   ]
  },
  {
   "cell_type": "code",
   "execution_count": 26,
   "metadata": {},
   "outputs": [
    {
     "name": "stdout",
     "output_type": "stream",
     "text": [
      "lunes\n",
      "no es fin de semana\n"
     ]
    }
   ],
   "source": [
    "day = input(\"Dia de la semana: \")\n",
    "#convertir minuscula\n",
    "day = day.lower()  \n",
    " \n",
    "print(day)\n",
    "\n",
    "if (day == \"domingo\"):\n",
    "    print(\"tengo clases\")\n",
    "\n",
    "elif (day == \"sabado\"):\n",
    "    print(\"es sabado\")    \n",
    "\n",
    "elif (day == \"viernes\"):\n",
    "    print(\"es viernes\")    \n",
    "else:\n",
    "    print(\"no es fin de semana\")    \n"
   ]
  },
  {
   "cell_type": "markdown",
   "metadata": {},
   "source": [
    "### Listas\n",
    "valores separados por comas, dentro de corchetes"
   ]
  },
  {
   "cell_type": "code",
   "execution_count": 27,
   "metadata": {},
   "outputs": [],
   "source": [
    "list_1= [\"monday\", \"tuesday\", 1, 2, 0.8]\n"
   ]
  },
  {
   "cell_type": "code",
   "execution_count": 28,
   "metadata": {},
   "outputs": [
    {
     "data": {
      "text/plain": [
       "['monday', 'tuesday', 1, 2, 0.8]"
      ]
     },
     "execution_count": 28,
     "metadata": {},
     "output_type": "execute_result"
    }
   ],
   "source": [
    "list_1"
   ]
  },
  {
   "cell_type": "code",
   "execution_count": 30,
   "metadata": {},
   "outputs": [
    {
     "data": {
      "text/plain": [
       "1"
      ]
     },
     "execution_count": 30,
     "metadata": {},
     "output_type": "execute_result"
    }
   ],
   "source": [
    "list_1[2]"
   ]
  },
  {
   "cell_type": "code",
   "execution_count": 32,
   "metadata": {},
   "outputs": [
    {
     "data": {
      "text/plain": [
       "0.8"
      ]
     },
     "execution_count": 32,
     "metadata": {},
     "output_type": "execute_result"
    }
   ],
   "source": [
    "list_1 [-1]"
   ]
  },
  {
   "cell_type": "code",
   "execution_count": 33,
   "metadata": {},
   "outputs": [],
   "source": [
    "names= [\"jose\", \"maria\", \"carlos\"]"
   ]
  },
  {
   "cell_type": "code",
   "execution_count": 38,
   "metadata": {},
   "outputs": [
    {
     "data": {
      "text/plain": [
       "['jose', 'maria', 'carlos', 'guillermo', 'guillermo', 'guillermo']"
      ]
     },
     "execution_count": 38,
     "metadata": {},
     "output_type": "execute_result"
    }
   ],
   "source": [
    "#append\n",
    "names.append (\"guillermo\")\n",
    "names "
   ]
  },
  {
   "cell_type": "code",
   "execution_count": 40,
   "metadata": {},
   "outputs": [
    {
     "data": {
      "text/plain": [
       "['jose', 'maria', 'carlos', 'guillermo', 'guillermo', 'guillermo']"
      ]
     },
     "execution_count": 40,
     "metadata": {},
     "output_type": "execute_result"
    }
   ],
   "source": [
    "names_2= names.copy()\n",
    "names_2"
   ]
  },
  {
   "cell_type": "code",
   "execution_count": 41,
   "metadata": {},
   "outputs": [
    {
     "data": {
      "text/plain": [
       "1"
      ]
     },
     "execution_count": 41,
     "metadata": {},
     "output_type": "execute_result"
    }
   ],
   "source": [
    "#count\n",
    "names_2.count (\"maria\")"
   ]
  },
  {
   "cell_type": "code",
   "execution_count": 43,
   "metadata": {},
   "outputs": [
    {
     "data": {
      "text/plain": [
       "3"
      ]
     },
     "execution_count": 43,
     "metadata": {},
     "output_type": "execute_result"
    }
   ],
   "source": [
    "names.index(\"guillermo\")\n"
   ]
  },
  {
   "cell_type": "code",
   "execution_count": 46,
   "metadata": {},
   "outputs": [
    {
     "data": {
      "text/plain": [
       "'carlos'"
      ]
     },
     "execution_count": 46,
     "metadata": {},
     "output_type": "execute_result"
    }
   ],
   "source": [
    "names.pop(2)"
   ]
  },
  {
   "cell_type": "code",
   "execution_count": 47,
   "metadata": {},
   "outputs": [
    {
     "data": {
      "text/plain": [
       "['jose', 'maria', 'guillermo', 'guillermo']"
      ]
     },
     "execution_count": 47,
     "metadata": {},
     "output_type": "execute_result"
    }
   ],
   "source": [
    "names"
   ]
  },
  {
   "cell_type": "code",
   "execution_count": 54,
   "metadata": {},
   "outputs": [
    {
     "data": {
      "text/plain": [
       "['jose', 'maria']"
      ]
     },
     "execution_count": 54,
     "metadata": {},
     "output_type": "execute_result"
    }
   ],
   "source": [
    "#slices\n",
    "names [:-2]\n"
   ]
  },
  {
   "cell_type": "code",
   "execution_count": 56,
   "metadata": {},
   "outputs": [
    {
     "data": {
      "text/plain": [
       "[2, 4, 6, 8, 10]"
      ]
     },
     "execution_count": 56,
     "metadata": {},
     "output_type": "execute_result"
    }
   ],
   "source": [
    "#guardar nros pares en una lista\n",
    "pares_list= []\n",
    "for number in range(1,11):\n",
    "    if number % 2 == 0:\n",
    "        pares_list.append(number)\n",
    "pares_list"
   ]
  },
  {
   "cell_type": "code",
   "execution_count": 59,
   "metadata": {},
   "outputs": [
    {
     "data": {
      "text/plain": [
       "[1,\n",
       " 9,\n",
       " 25,\n",
       " 49,\n",
       " 81,\n",
       " 121,\n",
       " 169,\n",
       " 225,\n",
       " 289,\n",
       " 361,\n",
       " 441,\n",
       " 529,\n",
       " 625,\n",
       " 729,\n",
       " 841,\n",
       " 961,\n",
       " 1089,\n",
       " 1225,\n",
       " 1369,\n",
       " 1521,\n",
       " 1681,\n",
       " 1849,\n",
       " 2025,\n",
       " 2209,\n",
       " 2401,\n",
       " 2601,\n",
       " 2809,\n",
       " 3025,\n",
       " 3249,\n",
       " 3481,\n",
       " 3721,\n",
       " 3969,\n",
       " 4225,\n",
       " 4489,\n",
       " 4761,\n",
       " 5041,\n",
       " 5329,\n",
       " 5625,\n",
       " 5929,\n",
       " 6241,\n",
       " 6561,\n",
       " 6889,\n",
       " 7225,\n",
       " 7569,\n",
       " 7921,\n",
       " 8281,\n",
       " 8649,\n",
       " 9025,\n",
       " 9409,\n",
       " 9801]"
      ]
     },
     "execution_count": 59,
     "metadata": {},
     "output_type": "execute_result"
    }
   ],
   "source": [
    "#guardar el cuadrado de nros inpares del 1 al 100 en una lista\n",
    "impares_list= []\n",
    "for number in range(1,101):\n",
    "    if number % 2 != 0:\n",
    "        impares_list.append(number**2)\n",
    "impares_list"
   ]
  },
  {
   "cell_type": "code",
   "execution_count": 60,
   "metadata": {},
   "outputs": [
    {
     "data": {
      "text/plain": [
       "4"
      ]
     },
     "execution_count": 60,
     "metadata": {},
     "output_type": "execute_result"
    }
   ],
   "source": [
    "len(names)\n"
   ]
  },
  {
   "cell_type": "code",
   "execution_count": 62,
   "metadata": {},
   "outputs": [
    {
     "name": "stdout",
     "output_type": "stream",
     "text": [
      "jose\n",
      "maria\n",
      "guillermo\n",
      "guillermo\n"
     ]
    }
   ],
   "source": [
    "for value in range (len(names)):\n",
    "    print(names[value])"
   ]
  }
 ],
 "metadata": {
  "kernelspec": {
   "display_name": "Python 3",
   "language": "python",
   "name": "python3"
  },
  "language_info": {
   "codemirror_mode": {
    "name": "ipython",
    "version": 3
   },
   "file_extension": ".py",
   "mimetype": "text/x-python",
   "name": "python",
   "nbconvert_exporter": "python",
   "pygments_lexer": "ipython3",
   "version": "3.12.3"
  }
 },
 "nbformat": 4,
 "nbformat_minor": 2
}
