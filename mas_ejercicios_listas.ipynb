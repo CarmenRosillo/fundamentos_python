{
 "cells": [
  {
   "cell_type": "code",
   "execution_count": 6,
   "metadata": {},
   "outputs": [
    {
     "name": "stdout",
     "output_type": "stream",
     "text": [
      "(1, 2, 3, 4, 5)\n"
     ]
    }
   ],
   "source": [
    "L= eval (input (\"Enter a list:\" ) )\n",
    "print (L)"
   ]
  },
  {
   "cell_type": "code",
   "execution_count": 19,
   "metadata": {},
   "outputs": [
    {
     "name": "stdout",
     "output_type": "stream",
     "text": [
      "two smallest are: 29 46\n",
      "two largest are: 85 58\n"
     ]
    }
   ],
   "source": [
    "scores = [85, 46, 58, 29]\n",
    "scores.sort()\n",
    "print(\"two smallest are:\", scores [0], scores[1])\n",
    "print(\"two largest are:\", scores [-1], scores[-2])\n"
   ]
  },
  {
   "cell_type": "code",
   "execution_count": 36,
   "metadata": {},
   "outputs": [
    {
     "name": "stdout",
     "output_type": "stream",
     "text": [
      "What is the capital of France? Incorrect! The correct answer is Paris.\n",
      "You have  0 out of 1 right\n",
      "What is the capital of Spain? Incorrect! The correct answer is Madrid.\n",
      "You have  0 out of 2 right\n"
     ]
    }
   ],
   "source": [
    "num_rigth= 0\n",
    "\n",
    "#Question 1\n",
    "\n",
    "print('What is the capital of France?',  end=' ')\n",
    "guess= input()\n",
    "\n",
    "if guess.lower() == \"paris\":\n",
    "    print (\"Correct!\")\n",
    "    num_rigth += 1\n",
    "else:\n",
    "    print (\"Incorrect! The correct answer is Paris.\")\n",
    "print(\"You have \", num_rigth , \"out of 1 right\")\n",
    "\n",
    "#Question 2\n",
    "\n",
    "print('What is the capital of Spain?', end=' ') \n",
    "guess= input()  \n",
    "\n",
    "if guess.lower() == \"madrid\":\n",
    "    print (\"Correct!\")\n",
    "    num_rigth += 1  \n",
    "else:\n",
    "    print (\"Incorrect! The correct answer is Madrid.\")  \n",
    "print(\"You have \", num_rigth , \"out of 2 right\") \n",
    "\n"
   ]
  },
  {
   "cell_type": "code",
   "execution_count": 45,
   "metadata": {},
   "outputs": [
    {
     "name": "stdout",
     "output_type": "stream",
     "text": [
      "Paris\n",
      "Incorrect\n",
      "Your score is 0 of 1\n",
      "Madrid\n",
      "Incorrect\n",
      "Your score is 0 of 2\n"
     ]
    }
   ],
   "source": [
    "questions = ['What is the capital of France?',\n",
    "            'What is the capital of Spain?']\n",
    "answers =   ['Paris','Madrid']\n",
    "\n",
    "num_rigth= 0\n",
    "\n",
    "for i in range(len(questions)):\n",
    "    response= input(questions[i])\n",
    "    print(answers[i])\n",
    "\n",
    "    if response == answers[i]:\n",
    "        num_rigth +=1\n",
    "        print('Correct')\n",
    "        print(f'Your score is {num_rigth} of {i+1}')\n",
    "\n",
    "    else:\n",
    "        print('Incorrect')\n",
    "        print(f'Your score is {num_rigth} of {i+1}')    \n",
    "\n",
    "        "
   ]
  },
  {
   "cell_type": "code",
   "execution_count": 94,
   "metadata": {},
   "outputs": [
    {
     "name": "stdout",
     "output_type": "stream",
     "text": [
      "[27, 25, 2, 14, 22, 22, 15, 37, 4, 27, 18, 42, 33, 15, 9, 43, 22, 43, 16, 39]\n",
      "39\n",
      "[39, 16, 43, 22, 43, 9, 15, 33, 42, 18, 27, 4, 37, 15, 22, 22, 14, 2, 25, 27]\n"
     ]
    }
   ],
   "source": [
    "from random import randint\n",
    "I = []\n",
    "for i in range(20):\n",
    "    I.append(randint(1,50))\n",
    "print(I)\n",
    "print(I[-1])\n",
    "\n",
    "I.reverse()\n",
    "print(I)\n",
    "\n"
   ]
  },
  {
   "cell_type": "code",
   "execution_count": 108,
   "metadata": {},
   "outputs": [
    {
     "name": "stdout",
     "output_type": "stream",
     "text": [
      "[26, 22, 23, 37, 29, 5, 16, 49, 36, 35, 25, 5, 39, 9, 43, 48, 4, 24, 30, 36]\n",
      "yes\n",
      "The number 5 appears 2 times in the list.\n"
     ]
    }
   ],
   "source": [
    "from random import randint\n",
    "\n",
    "# Create a sample list\n",
    "I = []\n",
    "for i in range(20):\n",
    "    I.append(randint(1, 50))\n",
    "\n",
    "print (I)\n",
    "\n",
    "# Check if 5 is in the list\n",
    "if I.count(5) > 0:\n",
    "    print(\"yes\")\n",
    "    print(\"The number 5 appears\", I.count(5), \"times in the list.\")\n",
    "else:\n",
    "    print(\"no\")\n",
    "\n"
   ]
  },
  {
   "cell_type": "code",
   "execution_count": 138,
   "metadata": {},
   "outputs": [
    {
     "name": "stdout",
     "output_type": "stream",
     "text": [
      "[15, 21, 3, 46, 19, 24, 4, 22, 50, 50, 42, 12, 48, 31, 26, 22, 41, 31, 27, 4]\n",
      "[3, 4, 4, 12, 15, 19, 21, 22, 22, 24, 26, 27, 31, 31, 41, 42, 46, 48, 50, 50]\n",
      "[4, 4, 12, 15, 19, 21, 22, 22, 24, 26, 27, 31, 31, 41, 42, 46, 48, 50]\n",
      "2 integers are less than 5 in the list\n"
     ]
    }
   ],
   "source": [
    "from random import randint\n",
    "\n",
    "# Create a sample list\n",
    "I = []\n",
    "for i in range(20):\n",
    "    I.append(randint(1, 50))\n",
    "\n",
    "print (I)\n",
    "\n",
    "I.sort()\n",
    "print (I)\n",
    "\n",
    "I.remove(min(I))\n",
    "I.remove(max(I))\n",
    "\n",
    "print (I) \n",
    "\n",
    "count = 0\n",
    "for item in I:\n",
    "    if item < 5:\n",
    "        count = count + 1\n",
    "print (count ,\"integers are less than 5 in the list\")\n",
    "\n",
    "\n",
    "\n",
    "\n"
   ]
  },
  {
   "cell_type": "code",
   "execution_count": 168,
   "metadata": {},
   "outputs": [
    {
     "name": "stdout",
     "output_type": "stream",
     "text": [
      "[4, 44, 78, 64, 80, 80, 6, 83, 39, 89, 86, 28, 88, 14, 78, 4, 3, 81, 12, 14]\n",
      "48.75\n",
      "89\n",
      "3\n",
      "88\n",
      "4\n",
      "[4, 44, 78, 64, 80, 80, 6, 86, 28, 88, 14, 78, 4, 12, 14]\n",
      "15\n"
     ]
    }
   ],
   "source": [
    "from random import randint\n",
    "\n",
    "# Create a sample list\n",
    "I = []\n",
    "for i in range(20):\n",
    "    I.append(randint(1, 100))\n",
    "\n",
    "print (I)\n",
    "\n",
    "average = sum(I)/len(I) \n",
    "print (average) \n",
    "\n",
    "largest = max(I)    \n",
    "print (largest) \n",
    "\n",
    "less = min(I)   \n",
    "print (less)  \n",
    "\n",
    "sorted_I = sorted(I)\n",
    "\n",
    "\n",
    "print (sorted_I[len(sorted_I)-2])\n",
    "\n",
    "print (sorted_I[len(sorted_I)-19])\n",
    "\n",
    "\n",
    "\n",
    "## cantidad de nros pares\n",
    "\n",
    "pares = [i for i in I if i%2==0]  \n",
    "print (pares)   \n",
    "print (len(pares))  \n",
    "\n"
   ]
  }
 ],
 "metadata": {
  "kernelspec": {
   "display_name": "Python 3",
   "language": "python",
   "name": "python3"
  },
  "language_info": {
   "codemirror_mode": {
    "name": "ipython",
    "version": 3
   },
   "file_extension": ".py",
   "mimetype": "text/x-python",
   "name": "python",
   "nbconvert_exporter": "python",
   "pygments_lexer": "ipython3",
   "version": "3.12.3"
  }
 },
 "nbformat": 4,
 "nbformat_minor": 2
}
